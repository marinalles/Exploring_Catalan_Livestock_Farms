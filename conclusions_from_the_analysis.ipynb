{
 "cells": [
  {
   "cell_type": "markdown",
   "id": "f17cde1c",
   "metadata": {},
   "source": [
    "# Conclusions about the livestock farms dataset in Catalunya (11/12/2021)\n",
    "\n",
    "The dataset was wrangled, cleaned and analysed to answer the following questions:\n",
    "\n",
    "**What are the 5 most and least frequent animals in farms**\n",
    "\n",
    "In Catalunya the 5 most frequent animals in farms are cows, pigs, horses, chickens & hens and sheeps. The least frequent are: geese, pigeons, Crassostrea gigas, mediterranean mussel (Mytilus galloprovincialis) and ducks.\n",
    "\n",
    "![title](number_farms_per_specie.JPG)\n",
    "\n",
    "**Are there differences on animal species based on the province?**\n",
    "\n",
    "Yes, there are. Most of the farms (77.8%) are located in Tarragona, which mostly have cows and pigs. The other provinces have mainly horses. \n",
    "\n",
    "![title](farm_species_per_province.JPG)\n",
    "\n",
    "**How many organic farms are and what are the most frequent species?**\n",
    "\n",
    "From the total of 992 farms, only 2.2% are organic. The most frequent are cows, goats and sheeps. \n",
    "\n",
    "![title](organic_farms.JPG)\n",
    "\n",
    "**Where are the organic farms located?**\n",
    "\n",
    "A Leaflet map was used to display the location and some information about the farm with the provinces and regions as background layers. \n",
    "\n",
    "![title](organic_farms_map_location.JPG)"
   ]
  },
  {
   "cell_type": "code",
   "execution_count": null,
   "id": "52d003d1",
   "metadata": {},
   "outputs": [],
   "source": []
  }
 ],
 "metadata": {
  "kernelspec": {
   "display_name": "Python 3",
   "language": "python",
   "name": "python3"
  },
  "language_info": {
   "codemirror_mode": {
    "name": "ipython",
    "version": 3
   },
   "file_extension": ".py",
   "mimetype": "text/x-python",
   "name": "python",
   "nbconvert_exporter": "python",
   "pygments_lexer": "ipython3",
   "version": "3.7.3"
  }
 },
 "nbformat": 4,
 "nbformat_minor": 5
}
